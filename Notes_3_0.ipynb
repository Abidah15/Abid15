{
  "nbformat": 4,
  "nbformat_minor": 0,
  "metadata": {
    "colab": {
      "provenance": [],
      "authorship_tag": "ABX9TyO9VvSOHLYd6GY+efYAgCfa",
      "include_colab_link": true
    },
    "kernelspec": {
      "name": "python3",
      "display_name": "Python 3"
    },
    "language_info": {
      "name": "python"
    }
  },
  "cells": [
    {
      "cell_type": "markdown",
      "metadata": {
        "id": "view-in-github",
        "colab_type": "text"
      },
      "source": [
        "<a href=\"https://colab.research.google.com/github/Abidah15/Abid15/blob/main/Notes_3_0.ipynb\" target=\"_parent\"><img src=\"https://colab.research.google.com/assets/colab-badge.svg\" alt=\"Open In Colab\"/></a>"
      ]
    },
    {
      "cell_type": "code",
      "execution_count": null,
      "metadata": {
        "colab": {
          "base_uri": "https://localhost:8080/"
        },
        "id": "_d34bv0hzv-1",
        "outputId": "0accc022-9792-4acb-e119-e05f3c9b9c1d"
      },
      "outputs": [
        {
          "output_type": "execute_result",
          "data": {
            "text/plain": [
              "str"
            ]
          },
          "metadata": {},
          "execution_count": 2
        }
      ],
      "source": [
        "type('data science')"
      ]
    },
    {
      "cell_type": "markdown",
      "source": [
        "**Int, float, complex**"
      ],
      "metadata": {
        "id": "IsqsGMEB0sRu"
      }
    },
    {
      "cell_type": "code",
      "source": [
        "#complex\n",
        "\n",
        "A = 3 + 4j"
      ],
      "metadata": {
        "id": "HkzPjIXu0iMG"
      },
      "execution_count": null,
      "outputs": []
    },
    {
      "cell_type": "code",
      "source": [
        "!python --version"
      ],
      "metadata": {
        "colab": {
          "base_uri": "https://localhost:8080/"
        },
        "id": "FuQFhcqv1V_w",
        "outputId": "ec97b0bd-a5fa-498a-f5d5-896801893d64"
      },
      "execution_count": null,
      "outputs": [
        {
          "output_type": "stream",
          "name": "stdout",
          "text": [
            "Python 3.10.12\n"
          ]
        }
      ]
    },
    {
      "cell_type": "code",
      "source": [
        "type('2024')"
      ],
      "metadata": {
        "colab": {
          "base_uri": "https://localhost:8080/"
        },
        "id": "ZUrIjeod1YcC",
        "outputId": "28bdada4-d849-4858-9486-a1678a27c6e8"
      },
      "execution_count": null,
      "outputs": [
        {
          "output_type": "execute_result",
          "data": {
            "text/plain": [
              "str"
            ]
          },
          "metadata": {},
          "execution_count": 6
        }
      ]
    },
    {
      "cell_type": "code",
      "source": [
        "type('dd3@m*')"
      ],
      "metadata": {
        "colab": {
          "base_uri": "https://localhost:8080/"
        },
        "id": "VLxZ11su1uZg",
        "outputId": "adef74dc-beab-449f-a7bb-12c16919b585"
      },
      "execution_count": null,
      "outputs": [
        {
          "output_type": "execute_result",
          "data": {
            "text/plain": [
              "str"
            ]
          },
          "metadata": {},
          "execution_count": 7
        }
      ]
    },
    {
      "cell_type": "code",
      "source": [
        "type(\"Data\")"
      ],
      "metadata": {
        "colab": {
          "base_uri": "https://localhost:8080/"
        },
        "id": "tjPnqUXm18o5",
        "outputId": "309dc3e2-a427-4dcd-8b71-8603c5b4252f"
      },
      "execution_count": null,
      "outputs": [
        {
          "output_type": "execute_result",
          "data": {
            "text/plain": [
              "str"
            ]
          },
          "metadata": {},
          "execution_count": 8
        }
      ]
    },
    {
      "cell_type": "markdown",
      "source": [
        "**Boolean Data Types**\n",
        "\n",
        "* True\n",
        "* False"
      ],
      "metadata": {
        "id": "9zJO29HG2E8L"
      }
    },
    {
      "cell_type": "code",
      "source": [
        "type(True)"
      ],
      "metadata": {
        "colab": {
          "base_uri": "https://localhost:8080/"
        },
        "id": "5wbHhzA02AL5",
        "outputId": "6d5cd7a9-8ad0-40d8-b6b0-5720f9584eeb"
      },
      "execution_count": null,
      "outputs": [
        {
          "output_type": "execute_result",
          "data": {
            "text/plain": [
              "bool"
            ]
          },
          "metadata": {},
          "execution_count": 9
        }
      ]
    },
    {
      "cell_type": "code",
      "source": [
        "type(False)"
      ],
      "metadata": {
        "colab": {
          "base_uri": "https://localhost:8080/"
        },
        "id": "r0HpAE-52YEP",
        "outputId": "62de362f-32b4-44c5-9543-99a61b7e274d"
      },
      "execution_count": null,
      "outputs": [
        {
          "output_type": "execute_result",
          "data": {
            "text/plain": [
              "bool"
            ]
          },
          "metadata": {},
          "execution_count": 10
        }
      ]
    },
    {
      "cell_type": "markdown",
      "source": [
        "*Expressions, Variables, Conditions*\n",
        "\n",
        "<ul>\n",
        "    <li>subtraction: <b>-</b></li>\n",
        "    <li>addition: <b>+</b></li>\n",
        "    <li>division: <b>/</b></li>\n",
        "    <li>floor division <b>//</b></li>\n",
        "    <li>multiplication: <b>*</b></li>\n",
        "    <li>modulus: <b>%</b></li>\n",
        "    <li>exponent: <b>**</b></li>\n",
        "</ul>"
      ],
      "metadata": {
        "id": "NXkuF_qG3swM"
      }
    },
    {
      "cell_type": "code",
      "source": [
        "x = 8\n",
        "z = 2\n",
        "\n",
        "y = x/z\n",
        "y"
      ],
      "metadata": {
        "colab": {
          "base_uri": "https://localhost:8080/"
        },
        "id": "mxQfTmyy3v_6",
        "outputId": "cdade250-53a9-4217-9850-e6d94e1b6005"
      },
      "execution_count": null,
      "outputs": [
        {
          "output_type": "execute_result",
          "data": {
            "text/plain": [
              "4.0"
            ]
          },
          "metadata": {},
          "execution_count": 14
        }
      ]
    },
    {
      "cell_type": "code",
      "source": [
        "type(y)"
      ],
      "metadata": {
        "colab": {
          "base_uri": "https://localhost:8080/"
        },
        "id": "NIzHvN3E4F42",
        "outputId": "765c6c97-c9a2-4b09-aefa-fbc63103b1a2"
      },
      "execution_count": null,
      "outputs": [
        {
          "output_type": "execute_result",
          "data": {
            "text/plain": [
              "float"
            ]
          },
          "metadata": {},
          "execution_count": 15
        }
      ]
    },
    {
      "cell_type": "code",
      "source": [
        "y = x//z"
      ],
      "metadata": {
        "id": "fu0ENzA04fe-"
      },
      "execution_count": null,
      "outputs": []
    },
    {
      "cell_type": "code",
      "source": [
        "y"
      ],
      "metadata": {
        "colab": {
          "base_uri": "https://localhost:8080/"
        },
        "id": "OX6fqRHf4nBi",
        "outputId": "eb8ff4e5-30da-4a27-9a41-ee2bb5ae4677"
      },
      "execution_count": null,
      "outputs": [
        {
          "output_type": "execute_result",
          "data": {
            "text/plain": [
              "4"
            ]
          },
          "metadata": {},
          "execution_count": 17
        }
      ]
    },
    {
      "cell_type": "code",
      "source": [
        "type(y)"
      ],
      "metadata": {
        "colab": {
          "base_uri": "https://localhost:8080/"
        },
        "id": "Ik32425E4ns9",
        "outputId": "fe43e6ef-0001-40d1-bd4e-7af5c1f6710b"
      },
      "execution_count": null,
      "outputs": [
        {
          "output_type": "execute_result",
          "data": {
            "text/plain": [
              "int"
            ]
          },
          "metadata": {},
          "execution_count": 18
        }
      ]
    },
    {
      "cell_type": "code",
      "source": [
        "k = 8\n",
        "l = 3\n",
        "\n",
        "m = k/l\n",
        "m"
      ],
      "metadata": {
        "colab": {
          "base_uri": "https://localhost:8080/"
        },
        "id": "Kq2WLSyC4vd4",
        "outputId": "6fba7325-5181-4b7e-c72f-1d2a3418cc22"
      },
      "execution_count": null,
      "outputs": [
        {
          "output_type": "execute_result",
          "data": {
            "text/plain": [
              "2.6666666666666665"
            ]
          },
          "metadata": {},
          "execution_count": 19
        }
      ]
    },
    {
      "cell_type": "code",
      "source": [
        "m = k//l\n",
        "m"
      ],
      "metadata": {
        "colab": {
          "base_uri": "https://localhost:8080/"
        },
        "id": "v57Jl2kp5ARz",
        "outputId": "65430bd2-37df-459c-cbbc-99d6f3aedfe9"
      },
      "execution_count": null,
      "outputs": [
        {
          "output_type": "execute_result",
          "data": {
            "text/plain": [
              "2"
            ]
          },
          "metadata": {},
          "execution_count": 24
        }
      ]
    },
    {
      "cell_type": "code",
      "source": [
        "b1 = 10%3\n",
        "b2 = 10%2\n",
        "b3 = 11%2\n",
        "b4 = 11%3\n",
        "\n",
        "print(b1)\n",
        "print(b2)\n",
        "print(b3)\n",
        "print(b4)"
      ],
      "metadata": {
        "colab": {
          "base_uri": "https://localhost:8080/"
        },
        "id": "ZPK5zV-75Fq4",
        "outputId": "8ecf8446-b707-4953-da3d-1e0f3e06acc7"
      },
      "execution_count": null,
      "outputs": [
        {
          "output_type": "stream",
          "name": "stdout",
          "text": [
            "1\n",
            "0\n",
            "1\n",
            "2\n"
          ]
        }
      ]
    },
    {
      "cell_type": "code",
      "source": [
        "2**3"
      ],
      "metadata": {
        "colab": {
          "base_uri": "https://localhost:8080/"
        },
        "id": "ve5gweUn592J",
        "outputId": "da0671fd-4386-4f1c-b816-3069bc0bf1eb"
      },
      "execution_count": null,
      "outputs": [
        {
          "output_type": "execute_result",
          "data": {
            "text/plain": [
              "8"
            ]
          },
          "metadata": {},
          "execution_count": 26
        }
      ]
    },
    {
      "cell_type": "code",
      "source": [
        "8**4"
      ],
      "metadata": {
        "colab": {
          "base_uri": "https://localhost:8080/"
        },
        "id": "F6jGsjJm7Bd6",
        "outputId": "cb0fe624-648e-4d1e-910c-f2cdca021e3c"
      },
      "execution_count": null,
      "outputs": [
        {
          "output_type": "execute_result",
          "data": {
            "text/plain": [
              "4096"
            ]
          },
          "metadata": {},
          "execution_count": 27
        }
      ]
    },
    {
      "cell_type": "markdown",
      "source": [
        "**Variables**"
      ],
      "metadata": {
        "id": "QNFRb9o77POK"
      }
    },
    {
      "cell_type": "code",
      "source": [
        "type = 'big data'"
      ],
      "metadata": {
        "id": "LeItWwp87D4B"
      },
      "execution_count": null,
      "outputs": []
    },
    {
      "cell_type": "code",
      "source": [
        "type(20)"
      ],
      "metadata": {
        "colab": {
          "base_uri": "https://localhost:8080/",
          "height": 141
        },
        "id": "hmzbHn9n7y6W",
        "outputId": "235d646e-d0b9-4168-fd54-67c8b8d3ea1c"
      },
      "execution_count": null,
      "outputs": [
        {
          "output_type": "error",
          "ename": "TypeError",
          "evalue": "'str' object is not callable",
          "traceback": [
            "\u001b[0;31m---------------------------------------------------------------------------\u001b[0m",
            "\u001b[0;31mTypeError\u001b[0m                                 Traceback (most recent call last)",
            "\u001b[0;32m<ipython-input-29-5b1f786095c8>\u001b[0m in \u001b[0;36m<cell line: 1>\u001b[0;34m()\u001b[0m\n\u001b[0;32m----> 1\u001b[0;31m \u001b[0mtype\u001b[0m\u001b[0;34m(\u001b[0m\u001b[0;36m20\u001b[0m\u001b[0;34m)\u001b[0m\u001b[0;34m\u001b[0m\u001b[0;34m\u001b[0m\u001b[0m\n\u001b[0m",
            "\u001b[0;31mTypeError\u001b[0m: 'str' object is not callable"
          ]
        }
      ]
    },
    {
      "cell_type": "code",
      "source": [
        "machine_learning = 'Data Science'"
      ],
      "metadata": {
        "id": "8WTiyanS7295"
      },
      "execution_count": null,
      "outputs": []
    },
    {
      "cell_type": "code",
      "source": [
        "machine_learning"
      ],
      "metadata": {
        "colab": {
          "base_uri": "https://localhost:8080/",
          "height": 35
        },
        "id": "86jzAeEq8ZAe",
        "outputId": "0510ec51-42c0-47be-ec3f-ba5417e8716f"
      },
      "execution_count": null,
      "outputs": [
        {
          "output_type": "execute_result",
          "data": {
            "text/plain": [
              "'Data Science'"
            ],
            "application/vnd.google.colaboratory.intrinsic+json": {
              "type": "string"
            }
          },
          "metadata": {},
          "execution_count": 31
        }
      ]
    },
    {
      "cell_type": "code",
      "source": [
        "%whos"
      ],
      "metadata": {
        "colab": {
          "base_uri": "https://localhost:8080/"
        },
        "id": "PbDzd3TX8cjq",
        "outputId": "0a5253d5-0e39-48a5-dd09-bed9e5fd13ac"
      },
      "execution_count": null,
      "outputs": [
        {
          "output_type": "stream",
          "name": "stdout",
          "text": [
            "Variable           Type       Data/Info\n",
            "---------------------------------------\n",
            "A                  complex    (3+4j)\n",
            "abc                int        2025\n",
            "b1                 int        1\n",
            "b2                 int        0\n",
            "b3                 int        1\n",
            "b4                 int        2\n",
            "c                  int        2\n",
            "k                  int        8\n",
            "l                  int        3\n",
            "m                  int        2\n",
            "machine_learning   str        Data Science\n",
            "type               str        big data\n",
            "x                  int        8\n",
            "y                  int        4\n",
            "z                  int        2\n"
          ]
        }
      ]
    },
    {
      "cell_type": "code",
      "source": [
        "abc = 2025"
      ],
      "metadata": {
        "id": "qgiFsdQP8nwv"
      },
      "execution_count": null,
      "outputs": []
    },
    {
      "cell_type": "markdown",
      "source": [
        "<ul>\n",
        "    <li>equal: <b>==</b></li>\n",
        "    <li>not equal: <b>!=</b></li>\n",
        "    <li>greater than: <b>></b></li>\n",
        "    <li>less than: <b>&lt;</b></li>\n",
        "    <li>greater than or equal to: <b>>=</b></li>\n",
        "    <li>less than or equal to: <b>&lt;=</b></li>\n",
        "</ul>"
      ],
      "metadata": {
        "id": "GOKM3njS95y3"
      }
    },
    {
      "cell_type": "code",
      "source": [
        "year = 2024\n",
        "year == 2024"
      ],
      "metadata": {
        "colab": {
          "base_uri": "https://localhost:8080/"
        },
        "id": "LORi08Za83u-",
        "outputId": "0a53c264-0026-4112-d4db-935abbc1cdcd"
      },
      "execution_count": null,
      "outputs": [
        {
          "output_type": "execute_result",
          "data": {
            "text/plain": [
              "True"
            ]
          },
          "metadata": {},
          "execution_count": 40
        }
      ]
    },
    {
      "cell_type": "code",
      "source": [
        "year != 2025"
      ],
      "metadata": {
        "colab": {
          "base_uri": "https://localhost:8080/"
        },
        "id": "tkt-4BlQ-Prk",
        "outputId": "25df69ff-3ee6-4c7a-8532-91af51a6389f"
      },
      "execution_count": null,
      "outputs": [
        {
          "output_type": "execute_result",
          "data": {
            "text/plain": [
              "True"
            ]
          },
          "metadata": {},
          "execution_count": 41
        }
      ]
    },
    {
      "cell_type": "code",
      "source": [
        "year == 2026"
      ],
      "metadata": {
        "colab": {
          "base_uri": "https://localhost:8080/"
        },
        "id": "AZ3Kim-I-YIc",
        "outputId": "be4c702c-83ad-4081-a69e-fa5511c3acd8"
      },
      "execution_count": null,
      "outputs": [
        {
          "output_type": "execute_result",
          "data": {
            "text/plain": [
              "False"
            ]
          },
          "metadata": {},
          "execution_count": 42
        }
      ]
    },
    {
      "cell_type": "markdown",
      "source": [
        "**String Indexing**"
      ],
      "metadata": {
        "id": "i3_bcpUaivd3"
      }
    },
    {
      "cell_type": "code",
      "source": [
        "singer = 'Michael Jackson'\n",
        "singer"
      ],
      "metadata": {
        "id": "Z02NdTOF-dIi",
        "colab": {
          "base_uri": "https://localhost:8080/",
          "height": 36
        },
        "outputId": "3866b8ec-406a-4d1c-8207-314aa99c51b2"
      },
      "execution_count": null,
      "outputs": [
        {
          "output_type": "execute_result",
          "data": {
            "text/plain": [
              "'Michael Jackson'"
            ],
            "application/vnd.google.colaboratory.intrinsic+json": {
              "type": "string"
            }
          },
          "metadata": {},
          "execution_count": 2
        }
      ]
    },
    {
      "cell_type": "code",
      "source": [
        "type(singer)"
      ],
      "metadata": {
        "colab": {
          "base_uri": "https://localhost:8080/"
        },
        "id": "HDAEVgG0i9TI",
        "outputId": "5d26ca89-b594-47b9-b338-911947118a94"
      },
      "execution_count": null,
      "outputs": [
        {
          "output_type": "execute_result",
          "data": {
            "text/plain": [
              "str"
            ]
          },
          "metadata": {},
          "execution_count": 3
        }
      ]
    },
    {
      "cell_type": "code",
      "source": [
        "print(singer)\n",
        "print(singer[2])\n",
        "print(singer[5])\n",
        "print(singer[10])\n",
        "print(singer[13])"
      ],
      "metadata": {
        "colab": {
          "base_uri": "https://localhost:8080/"
        },
        "id": "uFWt31FAjCtB",
        "outputId": "11f9284c-0ed2-4559-a0e8-12d6d5e941f3"
      },
      "execution_count": null,
      "outputs": [
        {
          "output_type": "stream",
          "name": "stdout",
          "text": [
            "Michael Jackson\n",
            "c\n",
            "e\n",
            "c\n",
            "o\n"
          ]
        }
      ]
    },
    {
      "cell_type": "markdown",
      "source": [
        "<img src=\"https://s3-api.us-geo.objectstorage.softlayer.net/cf-courses-data/CognitiveClass/PY0101EN/Chapter%201/Images/StringsIndex.png\" width=\"600\" align=\"center\" />"
      ],
      "metadata": {
        "id": "yFYeNR9_kUwg"
      }
    },
    {
      "cell_type": "markdown",
      "source": [
        "<img src=\"https://s3-api.us-geo.objectstorage.softlayer.net/cf-courses-data/CognitiveClass/PY0101EN/Chapter%201/Images/StringsNeg.png\" width=\"600\" align=\"center\" />"
      ],
      "metadata": {
        "id": "a63uJbbukeG3"
      }
    },
    {
      "cell_type": "code",
      "source": [
        "print(singer[-13])\n",
        "print(singer[-10])\n",
        "print(singer[-2])"
      ],
      "metadata": {
        "colab": {
          "base_uri": "https://localhost:8080/"
        },
        "id": "UbBL4xHskSM9",
        "outputId": "dab76e71-1889-444d-f2c2-96db0a1b481f"
      },
      "execution_count": null,
      "outputs": [
        {
          "output_type": "stream",
          "name": "stdout",
          "text": [
            "c\n",
            "e\n",
            "o\n"
          ]
        }
      ]
    },
    {
      "cell_type": "code",
      "source": [
        "# print the last, second last, and the first and the second of any string\n",
        "\n",
        "#first\n",
        "print(anystring[0])\n",
        "#second\n",
        "print(anystring[1])\n",
        "#last\n",
        "print(anystring[-1])\n",
        "#second last\n",
        "print(anystring[-2])"
      ],
      "metadata": {
        "colab": {
          "base_uri": "https://localhost:8080/",
          "height": 220
        },
        "id": "R8Hv0Lazl8G5",
        "outputId": "bfc5a7d9-f027-4707-c0da-117824768072"
      },
      "execution_count": null,
      "outputs": [
        {
          "output_type": "error",
          "ename": "NameError",
          "evalue": "name 'anystring' is not defined",
          "traceback": [
            "\u001b[0;31m---------------------------------------------------------------------------\u001b[0m",
            "\u001b[0;31mNameError\u001b[0m                                 Traceback (most recent call last)",
            "\u001b[0;32m<ipython-input-41-f8343a3acecb>\u001b[0m in \u001b[0;36m<cell line: 4>\u001b[0;34m()\u001b[0m\n\u001b[1;32m      2\u001b[0m \u001b[0;34m\u001b[0m\u001b[0m\n\u001b[1;32m      3\u001b[0m \u001b[0;31m#first\u001b[0m\u001b[0;34m\u001b[0m\u001b[0;34m\u001b[0m\u001b[0m\n\u001b[0;32m----> 4\u001b[0;31m \u001b[0mprint\u001b[0m\u001b[0;34m(\u001b[0m\u001b[0manystring\u001b[0m\u001b[0;34m[\u001b[0m\u001b[0;36m0\u001b[0m\u001b[0;34m]\u001b[0m\u001b[0;34m)\u001b[0m\u001b[0;34m\u001b[0m\u001b[0;34m\u001b[0m\u001b[0m\n\u001b[0m\u001b[1;32m      5\u001b[0m \u001b[0;31m#second\u001b[0m\u001b[0;34m\u001b[0m\u001b[0;34m\u001b[0m\u001b[0m\n\u001b[1;32m      6\u001b[0m \u001b[0mprint\u001b[0m\u001b[0;34m(\u001b[0m\u001b[0manystring\u001b[0m\u001b[0;34m[\u001b[0m\u001b[0;36m1\u001b[0m\u001b[0;34m]\u001b[0m\u001b[0;34m)\u001b[0m\u001b[0;34m\u001b[0m\u001b[0;34m\u001b[0m\u001b[0m\n",
            "\u001b[0;31mNameError\u001b[0m: name 'anystring' is not defined"
          ]
        }
      ]
    },
    {
      "cell_type": "markdown",
      "source": [
        "**Index Slicing**"
      ],
      "metadata": {
        "id": "j2v5BR6xmzMc"
      }
    },
    {
      "cell_type": "markdown",
      "source": [
        "print(anystring[index to start from : index to stop at])\n",
        "\n",
        "<img src=\"https://s3-api.us-geo.objectstorage.softlayer.net/cf-courses-data/CognitiveClass/PY0101EN/Chapter%201/Images/StringsIndex.png\" width=\"600\" align=\"center\" />"
      ],
      "metadata": {
        "id": "pU2ZjwzHnbO8"
      }
    },
    {
      "cell_type": "code",
      "source": [
        "print (singer[0:6])"
      ],
      "metadata": {
        "colab": {
          "base_uri": "https://localhost:8080/"
        },
        "id": "qS97VwNEoT89",
        "outputId": "08d8d660-0d89-4fee-a2b8-72012107b4e7"
      },
      "execution_count": null,
      "outputs": [
        {
          "output_type": "stream",
          "name": "stdout",
          "text": [
            "Michae\n"
          ]
        }
      ]
    },
    {
      "cell_type": "code",
      "source": [
        "print (singer[0:7])"
      ],
      "metadata": {
        "colab": {
          "base_uri": "https://localhost:8080/"
        },
        "id": "_czVEvF3otPV",
        "outputId": "544f8d0d-eeef-45be-d9c5-50c488a8cb8e"
      },
      "execution_count": null,
      "outputs": [
        {
          "output_type": "stream",
          "name": "stdout",
          "text": [
            "Michael\n"
          ]
        }
      ]
    },
    {
      "cell_type": "markdown",
      "source": [
        "**printing Jackson**"
      ],
      "metadata": {
        "id": "cz7klfVho2Iv"
      }
    },
    {
      "cell_type": "code",
      "source": [
        "print(singer[8:])"
      ],
      "metadata": {
        "colab": {
          "base_uri": "https://localhost:8080/"
        },
        "id": "JDB97_rXssCs",
        "outputId": "86ab95cc-a6c1-4606-df86-94cb07d14c90"
      },
      "execution_count": null,
      "outputs": [
        {
          "output_type": "stream",
          "name": "stdout",
          "text": [
            "Jackson\n"
          ]
        }
      ]
    },
    {
      "cell_type": "code",
      "source": [
        "print(singer[7:])"
      ],
      "metadata": {
        "colab": {
          "base_uri": "https://localhost:8080/"
        },
        "id": "rJFB45XRo0ZX",
        "outputId": "59841567-b2bd-429d-df06-0b2a47e7871e"
      },
      "execution_count": null,
      "outputs": [
        {
          "output_type": "stream",
          "name": "stdout",
          "text": [
            " Jackson\n"
          ]
        }
      ]
    },
    {
      "cell_type": "code",
      "source": [
        "print(singer[-7:])"
      ],
      "metadata": {
        "colab": {
          "base_uri": "https://localhost:8080/"
        },
        "id": "75Ze_ntmpEBF",
        "outputId": "9c8bd231-1cd9-4d50-fc8f-31ec0a039c35"
      },
      "execution_count": null,
      "outputs": [
        {
          "output_type": "stream",
          "name": "stdout",
          "text": [
            "Jackson\n"
          ]
        }
      ]
    },
    {
      "cell_type": "code",
      "source": [
        "print(singer[-7:15])"
      ],
      "metadata": {
        "colab": {
          "base_uri": "https://localhost:8080/"
        },
        "id": "uFsVe8l6pfmF",
        "outputId": "646fe4f8-e3bb-421d-931a-e9fbf5ea30da"
      },
      "execution_count": null,
      "outputs": [
        {
          "output_type": "stream",
          "name": "stdout",
          "text": [
            "Jackson\n"
          ]
        }
      ]
    },
    {
      "cell_type": "code",
      "source": [
        "print(singer[-7:14])"
      ],
      "metadata": {
        "colab": {
          "base_uri": "https://localhost:8080/"
        },
        "id": "soHw2MeBp2Q1",
        "outputId": "ef4cb545-db9f-480a-a048-ff9e9bbb56be"
      },
      "execution_count": null,
      "outputs": [
        {
          "output_type": "stream",
          "name": "stdout",
          "text": [
            "Jackso\n"
          ]
        }
      ]
    },
    {
      "cell_type": "markdown",
      "source": [
        "<img src=\"https://s3-api.us-geo.objectstorage.softlayer.net/cf-courses-data/CognitiveClass/PY0101EN/Chapter%201/Images/StringsIndex.png\" width=\"600\" align=\"center\" />"
      ],
      "metadata": {
        "id": "mXHnJjg6qVQ3"
      }
    },
    {
      "cell_type": "code",
      "source": [
        "print (singer[:7:2])"
      ],
      "metadata": {
        "colab": {
          "base_uri": "https://localhost:8080/"
        },
        "id": "Y8C826fdp84x",
        "outputId": "c4edd59c-1ce7-44d2-8f39-a5f1ec6b3bfb"
      },
      "execution_count": null,
      "outputs": [
        {
          "output_type": "stream",
          "name": "stdout",
          "text": [
            "Mcal\n"
          ]
        }
      ]
    },
    {
      "cell_type": "code",
      "source": [
        "print (singer[:7:3])"
      ],
      "metadata": {
        "colab": {
          "base_uri": "https://localhost:8080/"
        },
        "id": "pCLMGbVPq2Pi",
        "outputId": "19e78103-d4a7-46ed-8681-02bf9b6672f1"
      },
      "execution_count": null,
      "outputs": [
        {
          "output_type": "stream",
          "name": "stdout",
          "text": [
            "Mhl\n"
          ]
        }
      ]
    },
    {
      "cell_type": "code",
      "source": [
        "print(singer[7:15:3])"
      ],
      "metadata": {
        "colab": {
          "base_uri": "https://localhost:8080/"
        },
        "id": "MCrx761Sq9f3",
        "outputId": "86edcad0-f933-481b-9cfe-ee1f11ae0f7e"
      },
      "execution_count": null,
      "outputs": [
        {
          "output_type": "stream",
          "name": "stdout",
          "text": [
            " co\n"
          ]
        }
      ]
    },
    {
      "cell_type": "code",
      "source": [
        "print(singer[8:15:3])"
      ],
      "metadata": {
        "colab": {
          "base_uri": "https://localhost:8080/"
        },
        "id": "rzPTQ0-IrbTI",
        "outputId": "7372bcb5-3359-4e86-99e6-b679ae76abac"
      },
      "execution_count": null,
      "outputs": [
        {
          "output_type": "stream",
          "name": "stdout",
          "text": [
            "Jkn\n"
          ]
        }
      ]
    },
    {
      "cell_type": "markdown",
      "source": [
        "**Concatenating Strings**"
      ],
      "metadata": {
        "id": "FLE4PUeSrxuk"
      }
    },
    {
      "cell_type": "code",
      "source": [
        "str1 = 'Big'\n",
        "str2 = 'Data'\n",
        "\n",
        "str3 = str1 + str2\n",
        "str3"
      ],
      "metadata": {
        "colab": {
          "base_uri": "https://localhost:8080/",
          "height": 36
        },
        "id": "cB2Aa3LhrjN4",
        "outputId": "a67bdb29-83b9-46aa-a0b2-f182ab2c79ea"
      },
      "execution_count": null,
      "outputs": [
        {
          "output_type": "execute_result",
          "data": {
            "text/plain": [
              "'BigData'"
            ],
            "application/vnd.google.colaboratory.intrinsic+json": {
              "type": "string"
            }
          },
          "metadata": {},
          "execution_count": 23
        }
      ]
    },
    {
      "cell_type": "code",
      "source": [
        "str4 = str2 + str1\n",
        "str4"
      ],
      "metadata": {
        "colab": {
          "base_uri": "https://localhost:8080/",
          "height": 36
        },
        "id": "ruqBpLZHsOXO",
        "outputId": "36c0fcac-51af-4333-a223-ae14fbd7fbc1"
      },
      "execution_count": null,
      "outputs": [
        {
          "output_type": "execute_result",
          "data": {
            "text/plain": [
              "'DataBig'"
            ],
            "application/vnd.google.colaboratory.intrinsic+json": {
              "type": "string"
            }
          },
          "metadata": {},
          "execution_count": 25
        }
      ]
    },
    {
      "cell_type": "code",
      "source": [
        "str3 = str1 + ' ' + str2\n",
        "str3"
      ],
      "metadata": {
        "colab": {
          "base_uri": "https://localhost:8080/",
          "height": 36
        },
        "id": "LUEMHE-Es49u",
        "outputId": "7cd21e34-ac19-43af-a48f-2ecb3fbc8d3b"
      },
      "execution_count": null,
      "outputs": [
        {
          "output_type": "execute_result",
          "data": {
            "text/plain": [
              "'Big Data'"
            ],
            "application/vnd.google.colaboratory.intrinsic+json": {
              "type": "string"
            }
          },
          "metadata": {},
          "execution_count": 26
        }
      ]
    },
    {
      "cell_type": "code",
      "source": [
        "str1 = 'Big'\n",
        "str2 = ' Data'\n",
        "\n",
        "str3 = str1 + str2\n",
        "str3"
      ],
      "metadata": {
        "colab": {
          "base_uri": "https://localhost:8080/",
          "height": 36
        },
        "id": "bY-AYWEytJIO",
        "outputId": "96fdbed9-0381-49a9-9587-59ac529f871c"
      },
      "execution_count": null,
      "outputs": [
        {
          "output_type": "execute_result",
          "data": {
            "text/plain": [
              "'Big Data'"
            ],
            "application/vnd.google.colaboratory.intrinsic+json": {
              "type": "string"
            }
          },
          "metadata": {},
          "execution_count": 27
        }
      ]
    },
    {
      "cell_type": "code",
      "source": [
        "str5 = str1 + 2024\n",
        "str5"
      ],
      "metadata": {
        "colab": {
          "base_uri": "https://localhost:8080/",
          "height": 165
        },
        "id": "Zmx_99-StXw5",
        "outputId": "c1d5baea-e8e4-42fe-c029-8e86f0ccd111"
      },
      "execution_count": null,
      "outputs": [
        {
          "output_type": "error",
          "ename": "TypeError",
          "evalue": "can only concatenate str (not \"int\") to str",
          "traceback": [
            "\u001b[0;31m---------------------------------------------------------------------------\u001b[0m",
            "\u001b[0;31mTypeError\u001b[0m                                 Traceback (most recent call last)",
            "\u001b[0;32m<ipython-input-28-91e52b5fd67a>\u001b[0m in \u001b[0;36m<cell line: 1>\u001b[0;34m()\u001b[0m\n\u001b[0;32m----> 1\u001b[0;31m \u001b[0mstr5\u001b[0m \u001b[0;34m=\u001b[0m \u001b[0mstr1\u001b[0m \u001b[0;34m+\u001b[0m \u001b[0;36m2024\u001b[0m\u001b[0;34m\u001b[0m\u001b[0;34m\u001b[0m\u001b[0m\n\u001b[0m\u001b[1;32m      2\u001b[0m \u001b[0mstr5\u001b[0m\u001b[0;34m\u001b[0m\u001b[0;34m\u001b[0m\u001b[0m\n",
            "\u001b[0;31mTypeError\u001b[0m: can only concatenate str (not \"int\") to str"
          ]
        }
      ]
    },
    {
      "cell_type": "code",
      "source": [
        "str5 = str1 + '2024'\n",
        "str5"
      ],
      "metadata": {
        "colab": {
          "base_uri": "https://localhost:8080/",
          "height": 36
        },
        "id": "J9JR-2s5thpL",
        "outputId": "99fd18f0-487d-48db-d102-1c5ea73f8b4e"
      },
      "execution_count": null,
      "outputs": [
        {
          "output_type": "execute_result",
          "data": {
            "text/plain": [
              "'Big2024'"
            ],
            "application/vnd.google.colaboratory.intrinsic+json": {
              "type": "string"
            }
          },
          "metadata": {},
          "execution_count": 29
        }
      ]
    },
    {
      "cell_type": "code",
      "source": [
        "str5 = str1 + ' 2024'\n",
        "str5"
      ],
      "metadata": {
        "colab": {
          "base_uri": "https://localhost:8080/",
          "height": 36
        },
        "id": "r-gy9_hVtx1E",
        "outputId": "a0055b95-ae4e-46b5-e722-6f637c7f0f37"
      },
      "execution_count": null,
      "outputs": [
        {
          "output_type": "execute_result",
          "data": {
            "text/plain": [
              "'Big 2024'"
            ],
            "application/vnd.google.colaboratory.intrinsic+json": {
              "type": "string"
            }
          },
          "metadata": {},
          "execution_count": 30
        }
      ]
    },
    {
      "cell_type": "code",
      "source": [
        "str6 = '2024'\n",
        "str6"
      ],
      "metadata": {
        "colab": {
          "base_uri": "https://localhost:8080/",
          "height": 36
        },
        "id": "M4UdRXZAuA0X",
        "outputId": "6e1de21c-68d1-4733-efc0-595200e1f6f8"
      },
      "execution_count": null,
      "outputs": [
        {
          "output_type": "execute_result",
          "data": {
            "text/plain": [
              "'2024'"
            ],
            "application/vnd.google.colaboratory.intrinsic+json": {
              "type": "string"
            }
          },
          "metadata": {},
          "execution_count": 31
        }
      ]
    },
    {
      "cell_type": "code",
      "source": [
        "type(str6)"
      ],
      "metadata": {
        "colab": {
          "base_uri": "https://localhost:8080/"
        },
        "id": "IzycbnVpuH9b",
        "outputId": "814bcc05-d176-4300-d701-5727935f90a6"
      },
      "execution_count": null,
      "outputs": [
        {
          "output_type": "execute_result",
          "data": {
            "text/plain": [
              "str"
            ]
          },
          "metadata": {},
          "execution_count": 33
        }
      ]
    },
    {
      "cell_type": "code",
      "source": [
        "str7 = int('2024')\n",
        "str7"
      ],
      "metadata": {
        "colab": {
          "base_uri": "https://localhost:8080/"
        },
        "id": "qgvZCD6XuOUt",
        "outputId": "e76ff4cd-1350-4367-b7aa-195a1225ffc4"
      },
      "execution_count": null,
      "outputs": [
        {
          "output_type": "execute_result",
          "data": {
            "text/plain": [
              "2024"
            ]
          },
          "metadata": {},
          "execution_count": 35
        }
      ]
    },
    {
      "cell_type": "code",
      "source": [
        "str9 = str(2.2)\n",
        "str9"
      ],
      "metadata": {
        "colab": {
          "base_uri": "https://localhost:8080/",
          "height": 36
        },
        "id": "PCT_aX8LuYhe",
        "outputId": "74ad692c-c0db-4d1b-ff4b-2633d660f533"
      },
      "execution_count": null,
      "outputs": [
        {
          "output_type": "execute_result",
          "data": {
            "text/plain": [
              "'2.2'"
            ],
            "application/vnd.google.colaboratory.intrinsic+json": {
              "type": "string"
            }
          },
          "metadata": {},
          "execution_count": 36
        }
      ]
    },
    {
      "cell_type": "code",
      "source": [
        "str8 = str1 + str9\n",
        "str8"
      ],
      "metadata": {
        "colab": {
          "base_uri": "https://localhost:8080/",
          "height": 36
        },
        "id": "ohCBmx0EvBtU",
        "outputId": "91312537-018f-4744-c7f1-449ca1d23ee3"
      },
      "execution_count": null,
      "outputs": [
        {
          "output_type": "execute_result",
          "data": {
            "text/plain": [
              "'Big2.2'"
            ],
            "application/vnd.google.colaboratory.intrinsic+json": {
              "type": "string"
            }
          },
          "metadata": {},
          "execution_count": 37
        }
      ]
    },
    {
      "cell_type": "code",
      "source": [
        "test1 = int(str(999))\n",
        "test1"
      ],
      "metadata": {
        "colab": {
          "base_uri": "https://localhost:8080/"
        },
        "id": "HftM1vjdvM-f",
        "outputId": "9d13f7c4-756e-48ad-e354-3a1743209a6f"
      },
      "execution_count": null,
      "outputs": [
        {
          "output_type": "execute_result",
          "data": {
            "text/plain": [
              "999"
            ]
          },
          "metadata": {},
          "execution_count": 38
        }
      ]
    },
    {
      "cell_type": "code",
      "source": [
        "type(test1)"
      ],
      "metadata": {
        "colab": {
          "base_uri": "https://localhost:8080/"
        },
        "id": "bQvM4uorwEp2",
        "outputId": "83519813-3255-4982-aa45-726e2367fb5c"
      },
      "execution_count": null,
      "outputs": [
        {
          "output_type": "execute_result",
          "data": {
            "text/plain": [
              "int"
            ]
          },
          "metadata": {},
          "execution_count": 39
        }
      ]
    },
    {
      "cell_type": "code",
      "source": [
        "test2 = str(int(float(999)))\n",
        "type(test2)"
      ],
      "metadata": {
        "colab": {
          "base_uri": "https://localhost:8080/"
        },
        "id": "hUmRrr5gwdPF",
        "outputId": "a397c96c-1f54-4e49-c4cc-98bffbc67728"
      },
      "execution_count": null,
      "outputs": [
        {
          "output_type": "execute_result",
          "data": {
            "text/plain": [
              "str"
            ]
          },
          "metadata": {},
          "execution_count": 40
        }
      ]
    },
    {
      "cell_type": "markdown",
      "source": [
        "**Python Data Structure**\n",
        "\n",
        "* List []\n",
        "* Tuple ()\n",
        "* Set {}\n",
        "* Dictionary {}"
      ],
      "metadata": {
        "id": "4J0NIkMMxD7a"
      }
    },
    {
      "cell_type": "code",
      "source": [
        "l1 = [8.8,'Data Science', 2024, 99, -20]\n",
        "\n",
        "t1 = (8.8,'Data Science', 2024, 99, -20)\n",
        "\n",
        "s1 = {8.8,'Data Science', 2024, 99, -20}\n",
        "\n",
        "print(l1)\n",
        "print(t1)\n",
        "print(s1)"
      ],
      "metadata": {
        "colab": {
          "base_uri": "https://localhost:8080/"
        },
        "id": "MjnoVbyNwvTg",
        "outputId": "6eb1f636-2381-4140-946f-2fed5a08624f"
      },
      "execution_count": null,
      "outputs": [
        {
          "output_type": "stream",
          "name": "stdout",
          "text": [
            "[8.8, 'Data Science', 2024, 99, -20]\n",
            "(8.8, 'Data Science', 2024, 99, -20)\n",
            "{99, 8.8, 2024, -20, 'Data Science'}\n"
          ]
        }
      ]
    },
    {
      "cell_type": "code",
      "source": [
        "type(l1)"
      ],
      "metadata": {
        "colab": {
          "base_uri": "https://localhost:8080/"
        },
        "id": "ghHybZ3a4BMx",
        "outputId": "b5b02b07-505e-4e6b-fc6e-d351e3675a0f"
      },
      "execution_count": null,
      "outputs": [
        {
          "output_type": "execute_result",
          "data": {
            "text/plain": [
              "list"
            ]
          },
          "metadata": {},
          "execution_count": 43
        }
      ]
    },
    {
      "cell_type": "code",
      "source": [
        "type(t1)"
      ],
      "metadata": {
        "colab": {
          "base_uri": "https://localhost:8080/"
        },
        "id": "3OdVO2Em4KsS",
        "outputId": "04592538-aa56-45fb-cdef-6b073456c982"
      },
      "execution_count": null,
      "outputs": [
        {
          "output_type": "execute_result",
          "data": {
            "text/plain": [
              "tuple"
            ]
          },
          "metadata": {},
          "execution_count": 44
        }
      ]
    },
    {
      "cell_type": "code",
      "source": [
        "type(s1)"
      ],
      "metadata": {
        "colab": {
          "base_uri": "https://localhost:8080/"
        },
        "id": "qYb704XU4Md2",
        "outputId": "0b7f4c55-2c76-480c-ad72-3e34a376514f"
      },
      "execution_count": null,
      "outputs": [
        {
          "output_type": "execute_result",
          "data": {
            "text/plain": [
              "set"
            ]
          },
          "metadata": {},
          "execution_count": 45
        }
      ]
    },
    {
      "cell_type": "markdown",
      "source": [
        "**List**"
      ],
      "metadata": {
        "id": "rPXMjyfS4RkH"
      }
    },
    {
      "cell_type": "code",
      "source": [
        "#index\n",
        "\n",
        "print(l1[2])\n",
        "print(l1[2:])"
      ],
      "metadata": {
        "colab": {
          "base_uri": "https://localhost:8080/"
        },
        "id": "l_aKVxXs4OUE",
        "outputId": "55b8091e-16d0-45e7-ca9f-1a20e5d8a11f"
      },
      "execution_count": null,
      "outputs": [
        {
          "output_type": "stream",
          "name": "stdout",
          "text": [
            "2024\n",
            "[2024, 99, -20, 55, 'AI', ['ML', 999], ['ML', 999], ['ML', 999], ['ML', 999], 55, 'AI']\n"
          ]
        }
      ]
    },
    {
      "cell_type": "code",
      "source": [
        "#extend\n",
        "\n",
        "l1.extend([55, 'AI'])\n",
        "l1"
      ],
      "metadata": {
        "colab": {
          "base_uri": "https://localhost:8080/"
        },
        "id": "m5Jykk0C4nuP",
        "outputId": "6926fcd2-6111-4ed3-eeda-575f48f6fd15"
      },
      "execution_count": null,
      "outputs": [
        {
          "output_type": "execute_result",
          "data": {
            "text/plain": [
              "[8.8,\n",
              " 'Data Science',\n",
              " 2024,\n",
              " 99,\n",
              " -20,\n",
              " 55,\n",
              " 'AI',\n",
              " ['ML', 999],\n",
              " ['ML', 999],\n",
              " ['ML', 999],\n",
              " ['ML', 999],\n",
              " 55,\n",
              " 'AI']"
            ]
          },
          "metadata": {},
          "execution_count": 59
        }
      ]
    },
    {
      "cell_type": "code",
      "source": [
        "#append\n",
        "l1.append(['ML',999])"
      ],
      "metadata": {
        "id": "iZdPMLy-6mqG"
      },
      "execution_count": null,
      "outputs": []
    },
    {
      "cell_type": "code",
      "source": [
        "l1"
      ],
      "metadata": {
        "colab": {
          "base_uri": "https://localhost:8080/"
        },
        "id": "DlWeb8lz64fL",
        "outputId": "d6b99f46-4b1d-4e9f-ab39-267005676cfa"
      },
      "execution_count": null,
      "outputs": [
        {
          "output_type": "execute_result",
          "data": {
            "text/plain": [
              "[8.8,\n",
              " 'Data Science',\n",
              " 2024,\n",
              " 99,\n",
              " -20,\n",
              " 55,\n",
              " 'AI',\n",
              " ['ML', 999],\n",
              " ['ML', 999],\n",
              " ['ML', 999],\n",
              " ['ML', 999]]"
            ]
          },
          "metadata": {},
          "execution_count": 55
        }
      ]
    },
    {
      "cell_type": "code",
      "source": [
        "#nested list\n",
        "\n",
        "print(l1[-1])"
      ],
      "metadata": {
        "colab": {
          "base_uri": "https://localhost:8080/"
        },
        "id": "C1UO_DZz7AG3",
        "outputId": "7ad7e3f4-7c2e-4350-e43b-1e8c8d96ae42"
      },
      "execution_count": null,
      "outputs": [
        {
          "output_type": "stream",
          "name": "stdout",
          "text": [
            "['ML', 999]\n"
          ]
        }
      ]
    },
    {
      "cell_type": "code",
      "source": [
        "print(l1[-1][-1])"
      ],
      "metadata": {
        "colab": {
          "base_uri": "https://localhost:8080/"
        },
        "id": "ZV_Odmux7SuJ",
        "outputId": "6b00fe7f-6142-4d0d-aedf-b176a0cafa2b"
      },
      "execution_count": null,
      "outputs": [
        {
          "output_type": "stream",
          "name": "stdout",
          "text": [
            "999\n"
          ]
        }
      ]
    },
    {
      "cell_type": "code",
      "source": [
        "print(l1[-1][-2])"
      ],
      "metadata": {
        "colab": {
          "base_uri": "https://localhost:8080/"
        },
        "id": "_D-xrAY17bbl",
        "outputId": "25dce343-e2b6-405a-a997-65262ac68de7"
      },
      "execution_count": null,
      "outputs": [
        {
          "output_type": "stream",
          "name": "stdout",
          "text": [
            "ML\n"
          ]
        }
      ]
    },
    {
      "cell_type": "code",
      "source": [
        "l2 = [8.8, 'Data Science', 2024, 99, -20, 55, 'Ai', ['ML', 999, ['A','B','C']]]\n",
        "#print the latter B and C\n",
        "\n",
        "print (l2[-1][-1][-2:])"
      ],
      "metadata": {
        "colab": {
          "base_uri": "https://localhost:8080/"
        },
        "id": "hd2GiFHH7jNi",
        "outputId": "93543463-0781-4e87-aa34-cf53ed94c1fd"
      },
      "execution_count": null,
      "outputs": [
        {
          "output_type": "stream",
          "name": "stdout",
          "text": [
            "['B', 'C']\n"
          ]
        }
      ]
    },
    {
      "cell_type": "code",
      "source": [
        "#del\n",
        "del(l1[1])\n",
        "l1"
      ],
      "metadata": {
        "colab": {
          "base_uri": "https://localhost:8080/"
        },
        "id": "KvN5KLPR8cH7",
        "outputId": "6379ed5b-a200-4309-f544-e9d81fa86491"
      },
      "execution_count": null,
      "outputs": [
        {
          "output_type": "execute_result",
          "data": {
            "text/plain": [
              "[8.8,\n",
              " 2024,\n",
              " 99,\n",
              " -20,\n",
              " 55,\n",
              " 'AI',\n",
              " ['ML', 999],\n",
              " ['ML', 999],\n",
              " ['ML', 999],\n",
              " ['ML', 999],\n",
              " 55,\n",
              " 'AI']"
            ]
          },
          "metadata": {},
          "execution_count": 64
        }
      ]
    },
    {
      "cell_type": "code",
      "source": [
        "#find the index of an item in a list\n",
        "\n",
        "l1.index('AI')"
      ],
      "metadata": {
        "colab": {
          "base_uri": "https://localhost:8080/"
        },
        "id": "JsNLwvrQ9IJu",
        "outputId": "5694a602-f85f-4f0f-83db-23c6f3acf4fa"
      },
      "execution_count": null,
      "outputs": [
        {
          "output_type": "execute_result",
          "data": {
            "text/plain": [
              "5"
            ]
          },
          "metadata": {},
          "execution_count": 85
        }
      ]
    },
    {
      "cell_type": "code",
      "source": [
        "#counting the freq of an item in a list\n",
        "\n",
        "l3 = [20, 200, 99, 20, 'AI',20, 'AI', 20]\n",
        "\n",
        "#count\n",
        "\n",
        "l3.count(20)"
      ],
      "metadata": {
        "colab": {
          "base_uri": "https://localhost:8080/"
        },
        "id": "V1wVzEtn9r2u",
        "outputId": "ca7228ea-1e94-4337-eec2-2691d2398352"
      },
      "execution_count": null,
      "outputs": [
        {
          "output_type": "execute_result",
          "data": {
            "text/plain": [
              "4"
            ]
          },
          "metadata": {},
          "execution_count": 67
        }
      ]
    },
    {
      "cell_type": "code",
      "source": [
        "l3.count('AI')"
      ],
      "metadata": {
        "colab": {
          "base_uri": "https://localhost:8080/"
        },
        "id": "af8y56wx-TzW",
        "outputId": "cbab3d0e-5f0c-41bb-b03c-3428bc302eb4"
      },
      "execution_count": null,
      "outputs": [
        {
          "output_type": "execute_result",
          "data": {
            "text/plain": [
              "2"
            ]
          },
          "metadata": {},
          "execution_count": 68
        }
      ]
    },
    {
      "cell_type": "code",
      "source": [
        "#remove\n",
        "\n",
        "l3.remove('AI')\n",
        "l3"
      ],
      "metadata": {
        "colab": {
          "base_uri": "https://localhost:8080/"
        },
        "id": "jGsQW0c_-fPX",
        "outputId": "882a5ad4-381c-43ba-e0e9-90a54ec91875"
      },
      "execution_count": null,
      "outputs": [
        {
          "output_type": "execute_result",
          "data": {
            "text/plain": [
              "[20, 200, 99, 20, 20, 20]"
            ]
          },
          "metadata": {},
          "execution_count": 70
        }
      ]
    },
    {
      "cell_type": "code",
      "source": [
        "#insert\n",
        "\n",
        "#list.insert(index,item)\n",
        "\n",
        "l3.insert(4,'AI')\n",
        "l3"
      ],
      "metadata": {
        "colab": {
          "base_uri": "https://localhost:8080/"
        },
        "id": "dmSQ4tQv_EMV",
        "outputId": "e65d33fa-3672-4e2f-f420-b93eeac9f53c"
      },
      "execution_count": null,
      "outputs": [
        {
          "output_type": "execute_result",
          "data": {
            "text/plain": [
              "[20, 200, 99, 20, 'AI', 20, 20]"
            ]
          },
          "metadata": {},
          "execution_count": 71
        }
      ]
    },
    {
      "cell_type": "code",
      "source": [
        "#reverse\n",
        "\n",
        "l3.reverse()\n",
        "l3"
      ],
      "metadata": {
        "colab": {
          "base_uri": "https://localhost:8080/"
        },
        "id": "nW6E9T9__x1V",
        "outputId": "0bc4fc87-264b-4346-dd66-77fc51b1389b"
      },
      "execution_count": null,
      "outputs": [
        {
          "output_type": "execute_result",
          "data": {
            "text/plain": [
              "[20, 20, 'AI', 20, 99, 200, 20]"
            ]
          },
          "metadata": {},
          "execution_count": 72
        }
      ]
    },
    {
      "cell_type": "code",
      "source": [
        "#sort\n",
        "\n",
        "l3.sort()\n",
        "l3"
      ],
      "metadata": {
        "colab": {
          "base_uri": "https://localhost:8080/",
          "height": 201
        },
        "id": "F-vHxNvaAGtE",
        "outputId": "411fd079-9138-4570-ef34-694d2c56006c"
      },
      "execution_count": null,
      "outputs": [
        {
          "output_type": "error",
          "ename": "TypeError",
          "evalue": "'<' not supported between instances of 'str' and 'int'",
          "traceback": [
            "\u001b[0;31m---------------------------------------------------------------------------\u001b[0m",
            "\u001b[0;31mTypeError\u001b[0m                                 Traceback (most recent call last)",
            "\u001b[0;32m<ipython-input-73-7dcef0bdbe08>\u001b[0m in \u001b[0;36m<cell line: 3>\u001b[0;34m()\u001b[0m\n\u001b[1;32m      1\u001b[0m \u001b[0;31m#sort\u001b[0m\u001b[0;34m\u001b[0m\u001b[0;34m\u001b[0m\u001b[0m\n\u001b[1;32m      2\u001b[0m \u001b[0;34m\u001b[0m\u001b[0m\n\u001b[0;32m----> 3\u001b[0;31m \u001b[0ml3\u001b[0m\u001b[0;34m.\u001b[0m\u001b[0msort\u001b[0m\u001b[0;34m(\u001b[0m\u001b[0;34m)\u001b[0m\u001b[0;34m\u001b[0m\u001b[0;34m\u001b[0m\u001b[0m\n\u001b[0m\u001b[1;32m      4\u001b[0m \u001b[0ml3\u001b[0m\u001b[0;34m\u001b[0m\u001b[0;34m\u001b[0m\u001b[0m\n",
            "\u001b[0;31mTypeError\u001b[0m: '<' not supported between instances of 'str' and 'int'"
          ]
        }
      ]
    },
    {
      "cell_type": "code",
      "source": [
        "l3.remove('AI')\n",
        "l3"
      ],
      "metadata": {
        "colab": {
          "base_uri": "https://localhost:8080/"
        },
        "id": "y8mP_SqGAmHt",
        "outputId": "76f6b691-5cea-4cbc-8241-39d401f863ad"
      },
      "execution_count": null,
      "outputs": [
        {
          "output_type": "execute_result",
          "data": {
            "text/plain": [
              "[20, 20, 20, 99, 200, 20]"
            ]
          },
          "metadata": {},
          "execution_count": 74
        }
      ]
    },
    {
      "cell_type": "code",
      "source": [
        "l3.sort()\n",
        "l3"
      ],
      "metadata": {
        "colab": {
          "base_uri": "https://localhost:8080/"
        },
        "id": "6vvoRnV6A2dp",
        "outputId": "2e072afa-82a4-4b5f-81ea-def961f69fad"
      },
      "execution_count": null,
      "outputs": [
        {
          "output_type": "execute_result",
          "data": {
            "text/plain": [
              "[20, 20, 20, 20, 99, 200]"
            ]
          },
          "metadata": {},
          "execution_count": 75
        }
      ]
    },
    {
      "cell_type": "code",
      "source": [
        "l3.reverse()\n",
        "l3"
      ],
      "metadata": {
        "colab": {
          "base_uri": "https://localhost:8080/"
        },
        "id": "RAv9M9niA7Ew",
        "outputId": "936c1db6-da1f-4856-b067-0ee187a498f0"
      },
      "execution_count": null,
      "outputs": [
        {
          "output_type": "execute_result",
          "data": {
            "text/plain": [
              "[200, 99, 20, 20, 20, 20]"
            ]
          },
          "metadata": {},
          "execution_count": 76
        }
      ]
    },
    {
      "cell_type": "code",
      "source": [
        "#length\n",
        "\n",
        "len(l3)"
      ],
      "metadata": {
        "colab": {
          "base_uri": "https://localhost:8080/"
        },
        "id": "qi3rs-V_BArI",
        "outputId": "2fde8ff1-cce0-4f26-de9f-557970c7dcb6"
      },
      "execution_count": null,
      "outputs": [
        {
          "output_type": "execute_result",
          "data": {
            "text/plain": [
              "6"
            ]
          },
          "metadata": {},
          "execution_count": 77
        }
      ]
    },
    {
      "cell_type": "code",
      "source": [
        "l4 = [20, 0, -5, 13, -1, 7, 4, -3, 17, 9]\n",
        "\n",
        "#sort l4 in ascending and descending order\n",
        "#print the highest value and the lowest value"
      ],
      "metadata": {
        "id": "e1lHvWwSBPvG"
      },
      "execution_count": null,
      "outputs": []
    },
    {
      "cell_type": "code",
      "source": [
        "l4.sort()\n",
        "l4"
      ],
      "metadata": {
        "colab": {
          "base_uri": "https://localhost:8080/"
        },
        "id": "iZVLZ5TYB3t9",
        "outputId": "1ec9782c-b832-424d-d228-f78ea616c9e7"
      },
      "execution_count": null,
      "outputs": [
        {
          "output_type": "execute_result",
          "data": {
            "text/plain": [
              "[-5, -3, -1, 0, 4, 7, 9, 13, 17, 20]"
            ]
          },
          "metadata": {},
          "execution_count": 79
        }
      ]
    },
    {
      "cell_type": "code",
      "source": [
        "l4.reverse()\n",
        "l4"
      ],
      "metadata": {
        "colab": {
          "base_uri": "https://localhost:8080/"
        },
        "id": "Ny7-vYgeB7Pg",
        "outputId": "c301fa43-e57e-4a74-f148-cdbe75259e69"
      },
      "execution_count": null,
      "outputs": [
        {
          "output_type": "execute_result",
          "data": {
            "text/plain": [
              "[20, 17, 13, 9, 7, 4, 0, -1, -3, -5]"
            ]
          },
          "metadata": {},
          "execution_count": 80
        }
      ]
    },
    {
      "cell_type": "code",
      "source": [
        "print(l4[0])"
      ],
      "metadata": {
        "colab": {
          "base_uri": "https://localhost:8080/"
        },
        "id": "40jiTxb3B-Za",
        "outputId": "904705ac-3152-421b-d8dc-465c28d41cef"
      },
      "execution_count": null,
      "outputs": [
        {
          "output_type": "stream",
          "name": "stdout",
          "text": [
            "20\n"
          ]
        }
      ]
    },
    {
      "cell_type": "code",
      "source": [
        "print(l4[-1])"
      ],
      "metadata": {
        "colab": {
          "base_uri": "https://localhost:8080/"
        },
        "id": "DAYSuWQXCH8s",
        "outputId": "175e6afc-6d5d-4117-ebdb-8e2b8563ca77"
      },
      "execution_count": null,
      "outputs": [
        {
          "output_type": "stream",
          "name": "stdout",
          "text": [
            "-5\n"
          ]
        }
      ]
    },
    {
      "cell_type": "code",
      "source": [
        "max(l4)"
      ],
      "metadata": {
        "colab": {
          "base_uri": "https://localhost:8080/"
        },
        "id": "lWozvvR6CU89",
        "outputId": "e9ee03f0-3094-4515-ddf6-bcee3a144342"
      },
      "execution_count": null,
      "outputs": [
        {
          "output_type": "execute_result",
          "data": {
            "text/plain": [
              "20"
            ]
          },
          "metadata": {},
          "execution_count": 83
        }
      ]
    },
    {
      "cell_type": "code",
      "source": [
        "min(l4)"
      ],
      "metadata": {
        "colab": {
          "base_uri": "https://localhost:8080/"
        },
        "id": "-jZphyViCgnA",
        "outputId": "a5bde9e0-d5c9-415f-e362-327cb9df8c6c"
      },
      "execution_count": null,
      "outputs": [
        {
          "output_type": "execute_result",
          "data": {
            "text/plain": [
              "-5"
            ]
          },
          "metadata": {},
          "execution_count": 84
        }
      ]
    },
    {
      "cell_type": "code",
      "source": [
        "print ('The highest value is ', l4[0])\n",
        "print ('The lowest value is ', l4[-1])"
      ],
      "metadata": {
        "colab": {
          "base_uri": "https://localhost:8080/"
        },
        "id": "Sd97MN3BCiUU",
        "outputId": "94e9b8c1-b3a0-4a05-e4f7-79f86c42e6c4"
      },
      "execution_count": null,
      "outputs": [
        {
          "output_type": "stream",
          "name": "stdout",
          "text": [
            "The highest value is  20\n",
            "The lowest value is  -5\n"
          ]
        }
      ]
    },
    {
      "cell_type": "markdown",
      "source": [
        "**Tuple**\n",
        "\n",
        "Here’s a comparison of lists and tuples in Python:\n",
        "\n",
        "### List\n",
        "- *Mutable*: You can change the elements (add, remove, or modify) after the list is created.\n",
        "- *Syntax*: Defined using square brackets [].\n",
        "  python\n",
        "  my_list = [1, 2, 3]\n",
        "  \n",
        "- *Performance*: Slightly slower due to the flexibility of mutability.\n",
        "- *Use Case*: Best when you need a collection of items that may change over time.\n",
        "\n",
        "### Tuple\n",
        "- *Immutable*: Once created, you cannot change the elements (no adding, removing, or modifying).\n",
        "- *Syntax*: Defined using parentheses ().\n",
        "  python\n",
        "  my_tuple = (1, 2, 3)\n",
        "  \n",
        "- *Performance*: Faster than lists due to immutability.\n",
        "- *Use Case*: Best when you need a collection of items that should not change, ensuring data integrity.\n",
        "\n",
        "### Key Differences\n",
        "1. *Mutability*:\n",
        "   - Lists: Mutable\n",
        "   - Tuples: Immutable\n",
        "\n",
        "2. *Syntax*:\n",
        "   - Lists: []\n",
        "   - Tuples: ()\n",
        "\n",
        "3. *Performance*:\n",
        "   - Lists: Slower due to overhead of mutable operations.\n",
        "   - Tuples: Faster due to immutability.\n",
        "\n",
        "4. *Use Cases*:\n",
        "   - Lists: Collections of items that need to be changed or updated.\n",
        "   - Tuples: Fixed collections of items that should not change after creation.\n",
        "\n",
        "### Example\n",
        "#### List\n",
        "python\n",
        "my_list = [1, 2, 3]\n",
        "my_list.append(4)\n",
        "print(my_list)  # Output: [1, 2, 3, 4]\n",
        "\n",
        "\n",
        "#### Tuple\n",
        "python\n",
        "my_tuple = (1, 2, 3)\n",
        "# my_tuple.append(4)  # This will raise an AttributeError\n",
        "print(my_tuple)  # Output: (1, 2, 3)\n",
        "\n",
        "\n",
        "### Summary\n",
        "- Use *lists* when you need a dynamic collection that may change over time.\n",
        "- Use *tuples* when you need a fixed collection of items that should remain constant."
      ],
      "metadata": {
        "id": "1uS14e0PEh9c"
      }
    },
    {
      "cell_type": "code",
      "source": [
        "t1"
      ],
      "metadata": {
        "colab": {
          "base_uri": "https://localhost:8080/"
        },
        "id": "Uh2BvmMHELqf",
        "outputId": "eb9e0a11-37b0-47ae-be15-0b3609876d70"
      },
      "execution_count": null,
      "outputs": [
        {
          "output_type": "execute_result",
          "data": {
            "text/plain": [
              "(8.8, 'Data Science', 2024, 99, -20)"
            ]
          },
          "metadata": {},
          "execution_count": 87
        }
      ]
    },
    {
      "cell_type": "code",
      "source": [
        "print(t1[2])"
      ],
      "metadata": {
        "colab": {
          "base_uri": "https://localhost:8080/"
        },
        "id": "rzO4nKUeFYpk",
        "outputId": "2d6b2a2e-e1a1-4e47-fd69-5b3d04c0a65d"
      },
      "execution_count": null,
      "outputs": [
        {
          "output_type": "stream",
          "name": "stdout",
          "text": [
            "2024\n"
          ]
        }
      ]
    },
    {
      "cell_type": "code",
      "source": [
        "#nested tuple\n",
        "\n",
        "t2 = (8.8, 'Data Science', (2024, 99), -20,)\n",
        "print(t2[-2][-1])"
      ],
      "metadata": {
        "colab": {
          "base_uri": "https://localhost:8080/"
        },
        "id": "vrHgoSw9FeG-",
        "outputId": "894d1056-ab34-4131-f4be-4aa087093632"
      },
      "execution_count": null,
      "outputs": [
        {
          "output_type": "stream",
          "name": "stdout",
          "text": [
            "99\n"
          ]
        }
      ]
    },
    {
      "cell_type": "code",
      "source": [
        "t3 = ('AI', 'Python')\n",
        "tnew = t2 + t3\n",
        "tnew"
      ],
      "metadata": {
        "colab": {
          "base_uri": "https://localhost:8080/"
        },
        "id": "w6DRlmkZF7Q5",
        "outputId": "bc8b5671-9555-416e-8034-5bb07d25c1a2"
      },
      "execution_count": null,
      "outputs": [
        {
          "output_type": "execute_result",
          "data": {
            "text/plain": [
              "(8.8, 'Data Science', (2024, 99), -20, 'AI', 'Python')"
            ]
          },
          "metadata": {},
          "execution_count": 90
        }
      ]
    },
    {
      "cell_type": "code",
      "source": [
        "t4 = (5, 88, -20, 99, 30, 8.8, 0, 5)\n",
        "\n",
        "#sorted\n",
        "sort_t4 = sorted(t4)\n",
        "\n",
        "print (sort_t4)"
      ],
      "metadata": {
        "colab": {
          "base_uri": "https://localhost:8080/"
        },
        "id": "_tpNgyWXGTXR",
        "outputId": "bcfcdd1e-093a-4c63-851f-246a1ceab43d"
      },
      "execution_count": null,
      "outputs": [
        {
          "output_type": "stream",
          "name": "stdout",
          "text": [
            "[-20, 0, 5, 5, 8.8, 30, 88, 99]\n"
          ]
        }
      ]
    },
    {
      "cell_type": "code",
      "source": [
        "list_t4 = list(t4)\n",
        "list_t4"
      ],
      "metadata": {
        "colab": {
          "base_uri": "https://localhost:8080/"
        },
        "id": "N7dehr78G_Pr",
        "outputId": "529b988d-8598-4323-deae-c5d46ad978b9"
      },
      "execution_count": null,
      "outputs": [
        {
          "output_type": "execute_result",
          "data": {
            "text/plain": [
              "[5, 88, -20, 99, 30, 8.8, 0, 5]"
            ]
          },
          "metadata": {},
          "execution_count": 92
        }
      ]
    },
    {
      "cell_type": "code",
      "source": [
        "tuple_list_t4 = tuple(list_t4)\n",
        "tuple_list_t4"
      ],
      "metadata": {
        "colab": {
          "base_uri": "https://localhost:8080/"
        },
        "id": "KX-HNpISHi0r",
        "outputId": "f0e9469e-58a9-4c6c-f959-2086d070e0ca"
      },
      "execution_count": null,
      "outputs": [
        {
          "output_type": "execute_result",
          "data": {
            "text/plain": [
              "(5, 88, -20, 99, 30, 8.8, 0, 5)"
            ]
          },
          "metadata": {},
          "execution_count": 93
        }
      ]
    },
    {
      "cell_type": "code",
      "source": [
        "t5 = ('AI','Data', 2024, 'ML')\n",
        "list_new_items = [888, 'Python', 'DL']\n",
        "\n",
        "#create a new tuple of the above tuple and list"
      ],
      "metadata": {
        "id": "nspyQkGzHzN0"
      },
      "execution_count": null,
      "outputs": []
    },
    {
      "cell_type": "code",
      "source": [
        "list_t5 = list(t5)\n",
        "list_t5"
      ],
      "metadata": {
        "colab": {
          "base_uri": "https://localhost:8080/"
        },
        "id": "j2nxPumqJNqT",
        "outputId": "0a936222-5651-474f-9ca0-86d11a1051f5"
      },
      "execution_count": null,
      "outputs": [
        {
          "output_type": "execute_result",
          "data": {
            "text/plain": [
              "['AI', 'Data', 2024, 'ML']"
            ]
          },
          "metadata": {},
          "execution_count": 95
        }
      ]
    },
    {
      "cell_type": "code",
      "source": [
        "list_t5.extend(list_new_items)\n",
        "list_t5"
      ],
      "metadata": {
        "colab": {
          "base_uri": "https://localhost:8080/"
        },
        "id": "YDhZ1cBsL7FH",
        "outputId": "ef24d0b3-1ca9-4883-9896-cc028a592e4c"
      },
      "execution_count": null,
      "outputs": [
        {
          "output_type": "execute_result",
          "data": {
            "text/plain": [
              "['AI', 'Data', 2024, 'ML', 888, 'Python', 'DL']"
            ]
          },
          "metadata": {},
          "execution_count": 98
        }
      ]
    },
    {
      "cell_type": "code",
      "source": [
        "l6 = list_new_items + list_t5\n",
        "l6"
      ],
      "metadata": {
        "colab": {
          "base_uri": "https://localhost:8080/"
        },
        "id": "7AzZNAynJgE2",
        "outputId": "a0a8868e-8e44-41c1-e011-b7f40a995547"
      },
      "execution_count": null,
      "outputs": [
        {
          "output_type": "execute_result",
          "data": {
            "text/plain": [
              "[888, 'Python', 'DL', 'AI', 'Data', 2024, 'ML']"
            ]
          },
          "metadata": {},
          "execution_count": 96
        }
      ]
    },
    {
      "cell_type": "code",
      "source": [
        "tuple_list_t6 = tuple(l6)\n",
        "tuple_list_t6"
      ],
      "metadata": {
        "colab": {
          "base_uri": "https://localhost:8080/"
        },
        "id": "AWcKnWEGKRyM",
        "outputId": "28e4a059-510d-4d1c-e6fd-d228481b0c43"
      },
      "execution_count": null,
      "outputs": [
        {
          "output_type": "execute_result",
          "data": {
            "text/plain": [
              "(888, 'Python', 'DL', 'AI', 'Data', 2024, 'ML')"
            ]
          },
          "metadata": {},
          "execution_count": 97
        }
      ]
    },
    {
      "cell_type": "code",
      "source": [],
      "metadata": {
        "id": "ZotxqToGKdK7"
      },
      "execution_count": null,
      "outputs": []
    }
  ]
}